{
  "nbformat": 4,
  "nbformat_minor": 0,
  "metadata": {
    "colab": {
      "name": "emotiondetection.ipynb",
      "provenance": [],
      "collapsed_sections": [],
      "authorship_tag": "ABX9TyOJOsA1oEH1s6aAuoHoTOjS",
      "include_colab_link": true
    },
    "kernelspec": {
      "name": "python3",
      "display_name": "Python 3"
    },
    "accelerator": "GPU"
  },
  "cells": [
    {
      "cell_type": "markdown",
      "metadata": {
        "id": "view-in-github",
        "colab_type": "text"
      },
      "source": [
        "<a href=\"https://colab.research.google.com/github/ayushya19/cnn_emotion_re/blob/master/emotiondetection.ipynb\" target=\"_parent\"><img src=\"https://colab.research.google.com/assets/colab-badge.svg\" alt=\"Open In Colab\"/></a>"
      ]
    },
    {
      "cell_type": "code",
      "metadata": {
        "id": "DbYS1L5I2sjX",
        "colab_type": "code",
        "colab": {}
      },
      "source": [
        "!pip install -q kaggle\n",
        "\n",
        "from matplotlib import pyplot as plt"
      ],
      "execution_count": 6,
      "outputs": []
    },
    {
      "cell_type": "code",
      "metadata": {
        "id": "0ErwSUkNrI85",
        "colab_type": "code",
        "colab": {
          "base_uri": "https://localhost:8080/",
          "height": 67
        },
        "outputId": "8554d28b-865d-4c4b-8553-ea952ab8019d"
      },
      "source": [
        "!cd ~/.kaggle\n",
        "!cp /content/kaggle.json ~/.kaggle/kaggle.json\n",
        "!chmod 600 ./kaggle.json\n",
        "!kaggle datasets download -d deadskull7/fer2013 --force"
      ],
      "execution_count": 7,
      "outputs": [
        {
          "output_type": "stream",
          "text": [
            "Downloading fer2013.zip to /content\n",
            " 92% 89.0M/96.6M [00:02<00:00, 33.8MB/s]\n",
            "100% 96.6M/96.6M [00:02<00:00, 49.0MB/s]\n"
          ],
          "name": "stdout"
        }
      ]
    },
    {
      "cell_type": "code",
      "metadata": {
        "id": "2a-ttTUgB2Ta",
        "colab_type": "code",
        "colab": {}
      },
      "source": [
        "from google.colab import files\n",
        "import pandas as pd\n",
        "import numpy as np\n",
        "\n",
        "from keras_preprocessing.image import ImageDataGenerator\n",
        "from keras.models import Sequential\n",
        "from keras.layers import Conv2D,MaxPooling2D\n",
        "from keras.layers import Dense,Activation,Flatten,Dropout,BatchNormalization\n",
        "from keras.callbacks import ModelCheckpoint\n",
        "\n"
      ],
      "execution_count": 8,
      "outputs": []
    },
    {
      "cell_type": "code",
      "metadata": {
        "id": "xBBa3Nbn8v47",
        "colab_type": "code",
        "colab": {
          "base_uri": "https://localhost:8080/",
          "height": 50
        },
        "outputId": "00d9bc64-533e-4c80-8781-33d05bf9c599"
      },
      "source": [
        "!unzip /content/fer2013.zip"
      ],
      "execution_count": 9,
      "outputs": [
        {
          "output_type": "stream",
          "text": [
            "Archive:  /content/fer2013.zip\n",
            "  inflating: fer2013.csv             \n"
          ],
          "name": "stdout"
        }
      ]
    },
    {
      "cell_type": "code",
      "metadata": {
        "id": "SZJrgRRI9qBQ",
        "colab_type": "code",
        "colab": {}
      },
      "source": [
        "database=pd.read_csv('/content/fer2013.zip')"
      ],
      "execution_count": 10,
      "outputs": []
    },
    {
      "cell_type": "code",
      "metadata": {
        "id": "1AqMjXoJ_sQT",
        "colab_type": "code",
        "colab": {
          "base_uri": "https://localhost:8080/",
          "height": 252
        },
        "outputId": "91cb097f-5d64-4211-84f6-2da03d2fcd78"
      },
      "source": [
        "print(database)"
      ],
      "execution_count": 11,
      "outputs": [
        {
          "output_type": "stream",
          "text": [
            "       emotion                                             pixels        Usage\n",
            "0            0  70 80 82 72 58 58 60 63 54 58 60 48 89 115 121...     Training\n",
            "1            0  151 150 147 155 148 133 111 140 170 174 182 15...     Training\n",
            "2            2  231 212 156 164 174 138 161 173 182 200 106 38...     Training\n",
            "3            4  24 32 36 30 32 23 19 20 30 41 21 22 32 34 21 1...     Training\n",
            "4            6  4 0 0 0 0 0 0 0 0 0 0 0 3 15 23 28 48 50 58 84...     Training\n",
            "...        ...                                                ...          ...\n",
            "35882        6  50 36 17 22 23 29 33 39 34 37 37 37 39 43 48 5...  PrivateTest\n",
            "35883        3  178 174 172 173 181 188 191 194 196 199 200 20...  PrivateTest\n",
            "35884        0  17 17 16 23 28 22 19 17 25 26 20 24 31 19 27 9...  PrivateTest\n",
            "35885        3  30 28 28 29 31 30 42 68 79 81 77 67 67 71 63 6...  PrivateTest\n",
            "35886        2  19 13 14 12 13 16 21 33 50 57 71 84 97 108 122...  PrivateTest\n",
            "\n",
            "[35887 rows x 3 columns]\n"
          ],
          "name": "stdout"
        }
      ]
    },
    {
      "cell_type": "code",
      "metadata": {
        "id": "QoCkydcm910i",
        "colab_type": "code",
        "colab": {
          "base_uri": "https://localhost:8080/",
          "height": 34
        },
        "outputId": "ee22067f-f1af-4efa-aae3-febd1fdb69bf"
      },
      "source": [
        "\n",
        "print(database[\"Usage\"].unique())\n",
        "training_database=database[database[\"Usage\"]==\"Training\"]\n",
        "public_testing_database=database[database[\"Usage\"]==\"PublicTest\"]\n",
        "private_testing_database=database[database[\"Usage\"]==\"PrivateTest\"]"
      ],
      "execution_count": 12,
      "outputs": [
        {
          "output_type": "stream",
          "text": [
            "['Training' 'PublicTest' 'PrivateTest']\n"
          ],
          "name": "stdout"
        }
      ]
    },
    {
      "cell_type": "code",
      "metadata": {
        "id": "LSAoSDc4-c_w",
        "colab_type": "code",
        "colab": {}
      },
      "source": [
        "y_public_testing=public_testing_database[\"emotion\"]\n",
        "y_training=training_database[\"emotion\"]\n",
        "y_private_testing=private_testing_database[\"emotion\"]\n",
        "\n"
      ],
      "execution_count": 13,
      "outputs": []
    },
    {
      "cell_type": "code",
      "metadata": {
        "id": "gGxgWGMF-x8l",
        "colab_type": "code",
        "colab": {
          "base_uri": "https://localhost:8080/",
          "height": 34
        },
        "outputId": "91a2088c-c739-40d2-939b-cb6fc92249e6"
      },
      "source": [
        "x_public_testing=public_testing_database[\"pixels\"]\n",
        "x_training=training_database[\"pixels\"]\n",
        "x_private_testing=private_testing_database[\"pixels\"]\n",
        "x_public_testing.dtype"
      ],
      "execution_count": 14,
      "outputs": [
        {
          "output_type": "execute_result",
          "data": {
            "text/plain": [
              "dtype('O')"
            ]
          },
          "metadata": {
            "tags": []
          },
          "execution_count": 14
        }
      ]
    },
    {
      "cell_type": "code",
      "metadata": {
        "id": "QYgGFfNE_5TC",
        "colab_type": "code",
        "colab": {
          "base_uri": "https://localhost:8080/",
          "height": 67
        },
        "outputId": "4691cbd5-d6ef-44d4-de49-4f20af8c6673"
      },
      "source": [
        "x_public_testing=x_public_testing.str.split()\n",
        "x_training=x_training.str.split()\n",
        "x_private_testing=x_private_testing.str.split()\n",
        "\n",
        "print(len(x_public_testing))\n",
        "print(len(x_training))\n",
        "print(len(x_private_testing))"
      ],
      "execution_count": 15,
      "outputs": [
        {
          "output_type": "stream",
          "text": [
            "3589\n",
            "28709\n",
            "3589\n"
          ],
          "name": "stdout"
        }
      ]
    },
    {
      "cell_type": "code",
      "metadata": {
        "id": "LN-FYkJr40JI",
        "colab_type": "code",
        "colab": {
          "base_uri": "https://localhost:8080/",
          "height": 34
        },
        "outputId": "329cfe85-8354-4e2e-d520-9e4ef0fb737d"
      },
      "source": [
        "print(len(x_public_testing.iloc[0]))"
      ],
      "execution_count": 16,
      "outputs": [
        {
          "output_type": "stream",
          "text": [
            "2304\n"
          ],
          "name": "stdout"
        }
      ]
    },
    {
      "cell_type": "code",
      "metadata": {
        "id": "NaQQ5WkNAB0-",
        "colab_type": "code",
        "colab": {}
      },
      "source": [
        "validation_x=[]\n",
        "test_x_a=[]\n",
        "train_x=[]"
      ],
      "execution_count": 17,
      "outputs": []
    },
    {
      "cell_type": "code",
      "metadata": {
        "id": "MBn5JOQiH1We",
        "colab_type": "code",
        "colab": {}
      },
      "source": [
        "for i in x_public_testing:\n",
        "  for j in i:\n",
        "    validation_x.append(float(j))\n",
        "\n",
        "for i in x_private_testing:\n",
        "  for j in i:\n",
        "    test_x_a.append(float(j))\n",
        "\n",
        "for i in x_training:\n",
        "  for j in i:\n",
        "    train_x.append(float(j)) \n",
        "\n",
        "    #can divide these things by 255.0 to normalize"
      ],
      "execution_count": 18,
      "outputs": []
    },
    {
      "cell_type": "code",
      "metadata": {
        "id": "8yKuAdQKKwKV",
        "colab_type": "code",
        "colab": {}
      },
      "source": [
        "validation_x=np.reshape(validation_x,(3589,48,48))\n",
        "test_x_a=np.reshape(test_x_a,(3589,48,48))\n",
        "train_x=np.reshape(train_x,(28709,48,48))"
      ],
      "execution_count": 19,
      "outputs": []
    },
    {
      "cell_type": "code",
      "metadata": {
        "id": "Jsj-8Eb64VLF",
        "colab_type": "code",
        "colab": {
          "base_uri": "https://localhost:8080/",
          "height": 67
        },
        "outputId": "64487228-b1fb-4a8a-ef20-dfd8d7cf378f"
      },
      "source": [
        "print(train_x.shape)\n",
        "print(test_x_a.shape)\n",
        "print(validation_x.shape)"
      ],
      "execution_count": 20,
      "outputs": [
        {
          "output_type": "stream",
          "text": [
            "(28709, 48, 48)\n",
            "(3589, 48, 48)\n",
            "(3589, 48, 48)\n"
          ],
          "name": "stdout"
        }
      ]
    },
    {
      "cell_type": "code",
      "metadata": {
        "id": "koSJkfC1IN1s",
        "colab_type": "code",
        "colab": {
          "base_uri": "https://localhost:8080/",
          "height": 218
        },
        "outputId": "989dad26-960a-420f-f724-29421d4c22df"
      },
      "source": [
        "print(y_public_testing)"
      ],
      "execution_count": 21,
      "outputs": [
        {
          "output_type": "stream",
          "text": [
            "28709    0\n",
            "28710    1\n",
            "28711    4\n",
            "28712    6\n",
            "28713    3\n",
            "        ..\n",
            "32293    4\n",
            "32294    3\n",
            "32295    4\n",
            "32296    4\n",
            "32297    4\n",
            "Name: emotion, Length: 3589, dtype: int64\n"
          ],
          "name": "stdout"
        }
      ]
    },
    {
      "cell_type": "code",
      "metadata": {
        "id": "2WGeXhAsJAuy",
        "colab_type": "code",
        "colab": {}
      },
      "source": [
        "model=Sequential()\n",
        "num_classes = 7\n",
        "img_rows,img_cols = 48,48\n",
        "batch_size = 32\n"
      ],
      "execution_count": 22,
      "outputs": []
    },
    {
      "cell_type": "code",
      "metadata": {
        "id": "w5HcUCjaL-mq",
        "colab_type": "code",
        "colab": {}
      },
      "source": [
        "model.add(Conv2D(32,(3,3),padding='same',kernel_initializer='he_normal',input_shape=(img_rows,img_cols,1)))\n",
        "model.add(Activation('elu'))\n",
        "model.add(BatchNormalization())\n",
        "model.add(Conv2D(32,(3,3),padding='same',kernel_initializer='he_normal',input_shape=(img_rows,img_cols,1)))\n",
        "model.add(Activation('elu'))\n",
        "model.add(BatchNormalization())\n",
        "model.add(MaxPooling2D(pool_size=(2,2)))\n",
        "model.add(Dropout(0.2))\n",
        "\n",
        "# Block-2 \n",
        "\n",
        "model.add(Conv2D(64,(3,3),padding='same',kernel_initializer='he_normal'))\n",
        "model.add(Activation('elu'))\n",
        "model.add(BatchNormalization())\n",
        "model.add(Conv2D(64,(3,3),padding='same',kernel_initializer='he_normal'))\n",
        "model.add(Activation('elu'))\n",
        "model.add(BatchNormalization())\n",
        "model.add(MaxPooling2D(pool_size=(2,2)))\n",
        "model.add(Dropout(0.2))\n",
        "\n",
        "# Block-3\n",
        "\n",
        "model.add(Conv2D(128,(3,3),padding='same',kernel_initializer='he_normal'))\n",
        "model.add(Activation('elu'))\n",
        "model.add(BatchNormalization())\n",
        "model.add(Conv2D(128,(3,3),padding='same',kernel_initializer='he_normal'))\n",
        "model.add(Activation('elu'))\n",
        "model.add(BatchNormalization())\n",
        "model.add(MaxPooling2D(pool_size=(2,2)))\n",
        "model.add(Dropout(0.2))\n",
        "\n",
        "# Block-4 \n",
        "\n",
        "model.add(Conv2D(256,(3,3),padding='same',kernel_initializer='he_normal'))\n",
        "model.add(Activation('elu'))\n",
        "model.add(BatchNormalization())\n",
        "model.add(Conv2D(256,(3,3),padding='same',kernel_initializer='he_normal'))\n",
        "model.add(Activation('elu'))\n",
        "model.add(BatchNormalization())\n",
        "model.add(MaxPooling2D(pool_size=(2,2)))\n",
        "model.add(Dropout(0.2))\n",
        "\n",
        "# Block-5\n",
        "\n",
        "model.add(Flatten())\n",
        "model.add(Dense(64,kernel_initializer='he_normal'))\n",
        "model.add(Activation('elu'))\n",
        "model.add(BatchNormalization())\n",
        "model.add(Dropout(0.5))\n",
        "\n",
        "# Block-6\n",
        "\n",
        "model.add(Dense(64,kernel_initializer='he_normal'))\n",
        "model.add(Activation('elu'))\n",
        "model.add(BatchNormalization())\n",
        "model.add(Dropout(0.5))\n",
        "\n",
        "# Block-7\n",
        "\n",
        "model.add(Dense(num_classes,kernel_initializer='he_normal'))\n",
        "model.add(Activation('softmax'))\n",
        "\n",
        "\n",
        "model.compile(loss='categorical_crossentropy',optimizer='adam',metrics=['accuracy'])\n",
        "\n"
      ],
      "execution_count": 23,
      "outputs": []
    },
    {
      "cell_type": "code",
      "metadata": {
        "id": "pSIsBS6DXWHk",
        "colab_type": "code",
        "colab": {
          "base_uri": "https://localhost:8080/",
          "height": 50
        },
        "outputId": "aa884e15-f82f-4e4f-f7b6-b6c50a423fec"
      },
      "source": [
        "\n",
        "\n",
        "\n",
        "train_x=np.expand_dims(train_x,axis=0)\n",
        "validation_x=np.expand_dims(validation_x,axis=0)\n",
        "print(validation_x.shape)\n",
        "print(train_x.shape)"
      ],
      "execution_count": 24,
      "outputs": [
        {
          "output_type": "stream",
          "text": [
            "(1, 3589, 48, 48)\n",
            "(1, 28709, 48, 48)\n"
          ],
          "name": "stdout"
        }
      ]
    },
    {
      "cell_type": "code",
      "metadata": {
        "id": "znkRGrbXanTD",
        "colab_type": "code",
        "colab": {
          "base_uri": "https://localhost:8080/",
          "height": 857
        },
        "outputId": "c6a10e01-940a-49b0-8465-b3538c32041c"
      },
      "source": [
        "print(train_x.shape)\n",
        "print(validation_x)\n",
        "train_x=np.reshape(train_x,(28709,48,48,1))\n",
        "validation_x=np.reshape(validation_x,(3589,48,48,1))"
      ],
      "execution_count": 25,
      "outputs": [
        {
          "output_type": "stream",
          "text": [
            "(1, 28709, 48, 48)\n",
            "[[[[254. 254. 254. ...  16.   0. 161.]\n",
            "   [254. 254. 254. ...  17.   0. 122.]\n",
            "   [254. 254. 254. ...  26.   0. 114.]\n",
            "   ...\n",
            "   [ 66.  86.  99. ... 255. 252. 254.]\n",
            "   [ 84.  92.  92. ... 236. 255. 255.]\n",
            "   [ 93.  90.  85. ...  42. 129. 180.]]\n",
            "\n",
            "  [[156. 184. 198. ... 157. 154. 150.]\n",
            "   [146. 182. 199. ... 161. 154. 150.]\n",
            "   [135. 176. 195. ... 165. 161. 155.]\n",
            "   ...\n",
            "   [ 28.  25.  21. ... 179. 175. 173.]\n",
            "   [ 29.  18.  22. ... 177. 172. 169.]\n",
            "   [ 21.  14.  23. ... 172. 167. 161.]]\n",
            "\n",
            "  [[ 69. 118.  61. ... 118. 124. 144.]\n",
            "   [ 66. 115.  57. ... 129. 123. 131.]\n",
            "   [ 64. 116.  61. ... 136. 140. 136.]\n",
            "   ...\n",
            "   [114.  87. 136. ...  98.  84.  86.]\n",
            "   [114.  85. 140. ...  89.  84.  88.]\n",
            "   [114.  87. 145. ...  88.  87.  90.]]\n",
            "\n",
            "  ...\n",
            "\n",
            "  [[255. 255. 255. ... 255. 255. 255.]\n",
            "   [255. 255. 255. ... 255. 255. 255.]\n",
            "   [255. 255. 255. ... 255. 255. 255.]\n",
            "   ...\n",
            "   [232. 231. 218. ...  45.  54.  76.]\n",
            "   [230. 227. 217. ...  55.  54.  50.]\n",
            "   [228. 220. 207. ...  48.  50.  46.]]\n",
            "\n",
            "  [[ 33.  25.  31. ...  32.  32.  28.]\n",
            "   [ 44.  31.  35. ...  32.  31.  25.]\n",
            "   [ 23.  35.  37. ...  27.  24.  21.]\n",
            "   ...\n",
            "   [  7.   5.   4. ...   4.   4.   4.]\n",
            "   [  4.   5.   4. ...   4.   5.   4.]\n",
            "   [  3.   4.   4. ...   4.   5.   4.]]\n",
            "\n",
            "  [[ 61.  63.  59. ...  88.  81.  87.]\n",
            "   [ 60.  63.  54. ...  85.  83.  84.]\n",
            "   [ 58.  65.  53. ...  80.  91.  81.]\n",
            "   ...\n",
            "   [ 59.  60.  60. ... 124. 120. 197.]\n",
            "   [ 58.  60.  59. ... 101. 152. 185.]\n",
            "   [ 56.  58.  58. ... 113. 165. 180.]]]]\n"
          ],
          "name": "stdout"
        }
      ]
    },
    {
      "cell_type": "code",
      "metadata": {
        "id": "vfH-jmhFa8c6",
        "colab_type": "code",
        "colab": {
          "base_uri": "https://localhost:8080/",
          "height": 50
        },
        "outputId": "da77bee8-1683-449b-eec2-b3b24e9e1403"
      },
      "source": [
        "print(train_x.shape)\n",
        "print(validation_x.shape)\n",
        "\n",
        "\n"
      ],
      "execution_count": 26,
      "outputs": [
        {
          "output_type": "stream",
          "text": [
            "(28709, 48, 48, 1)\n",
            "(3589, 48, 48, 1)\n"
          ],
          "name": "stdout"
        }
      ]
    },
    {
      "cell_type": "code",
      "metadata": {
        "id": "RLCxDJOfeQYY",
        "colab_type": "code",
        "colab": {}
      },
      "source": [
        "from keras import utils\n",
        "y_training=utils.to_categorical(y_training)\n",
        "y_validation=utils.to_categorical(y_public_testing)"
      ],
      "execution_count": 27,
      "outputs": []
    },
    {
      "cell_type": "code",
      "metadata": {
        "id": "RjLYlJqnekNW",
        "colab_type": "code",
        "colab": {
          "base_uri": "https://localhost:8080/",
          "height": 34
        },
        "outputId": "8a27ef8d-c2f8-42d4-e4e6-a8f66e2a9148"
      },
      "source": [
        "from keras.preprocessing import image\n",
        "\n",
        "print(y_training.shape)"
      ],
      "execution_count": 28,
      "outputs": [
        {
          "output_type": "stream",
          "text": [
            "(28709, 7)\n"
          ],
          "name": "stdout"
        }
      ]
    },
    {
      "cell_type": "code",
      "metadata": {
        "id": "EwI_BR-usQJr",
        "colab_type": "code",
        "colab": {}
      },
      "source": [
        "train_datagen=ImageDataGenerator(rescale=1./255,rotation_range=30,shear_range=0.3,zoom_range=0.3,width_shift_range=0.4,height_shift_range=0.4,horizontal_flip=True,fill_mode='nearest')\n",
        "validation_datagen=ImageDataGenerator(rescale=1./255)\n",
        "\n",
        "train_generator = train_datagen.flow(x=train_x,y=y_training,batch_size=32)\n",
        "\n",
        "validation_generator=validation_datagen.flow(x=validation_x,y=y_validation)"
      ],
      "execution_count": 29,
      "outputs": []
    },
    {
      "cell_type": "code",
      "metadata": {
        "id": "QD980eaDwNo_",
        "colab_type": "code",
        "colab": {
          "base_uri": "https://localhost:8080/",
          "height": 496
        },
        "outputId": "6db86bf7-1bec-41de-ef4b-caed4185682d"
      },
      "source": [
        "from keras.callbacks import ModelCheckpoint, EarlyStopping, ReduceLROnPlateau\n",
        "from matplotlib import pyplot as plt\n",
        "for i in train_generator.next():\n",
        "  print(i.shape)\n",
        "  plt.imshow(i[0,:,:,0])\n",
        "  plt.show()"
      ],
      "execution_count": 30,
      "outputs": [
        {
          "output_type": "stream",
          "text": [
            "(32, 48, 48, 1)\n"
          ],
          "name": "stdout"
        },
        {
          "output_type": "display_data",
          "data": {
            "image/png": "[encoded data removed]",
            "text/plain": [
              "<Figure size 432x288 with 1 Axes>"
            ]
          },
          "metadata": {
            "tags": [],
            "needs_background": "light"
          }
        },
        {
          "output_type": "stream",
          "text": [
            "(32, 7)\n"
          ],
          "name": "stdout"
        },
        {
          "output_type": "error",
          "ename": "IndexError",
          "evalue": "ignored",
          "traceback": [
            "\u001b[0;31m---------------------------------------------------------------------------\u001b[0m",
            "\u001b[0;31mIndexError\u001b[0m                                Traceback (most recent call last)",
            "\u001b[0;32m<ipython-input-30-0d1246615dcf>\u001b[0m in \u001b[0;36m<module>\u001b[0;34m()\u001b[0m\n\u001b[1;32m      3\u001b[0m \u001b[0;32mfor\u001b[0m \u001b[0mi\u001b[0m \u001b[0;32min\u001b[0m \u001b[0mtrain_generator\u001b[0m\u001b[0;34m.\u001b[0m\u001b[0mnext\u001b[0m\u001b[0;34m(\u001b[0m\u001b[0;34m)\u001b[0m\u001b[0;34m:\u001b[0m\u001b[0;34m\u001b[0m\u001b[0;34m\u001b[0m\u001b[0m\n\u001b[1;32m      4\u001b[0m   \u001b[0mprint\u001b[0m\u001b[0;34m(\u001b[0m\u001b[0mi\u001b[0m\u001b[0;34m.\u001b[0m\u001b[0mshape\u001b[0m\u001b[0;34m)\u001b[0m\u001b[0;34m\u001b[0m\u001b[0;34m\u001b[0m\u001b[0m\n\u001b[0;32m----> 5\u001b[0;31m   \u001b[0mplt\u001b[0m\u001b[0;34m.\u001b[0m\u001b[0mimshow\u001b[0m\u001b[0;34m(\u001b[0m\u001b[0mi\u001b[0m\u001b[0;34m[\u001b[0m\u001b[0;36m0\u001b[0m\u001b[0;34m,\u001b[0m\u001b[0;34m:\u001b[0m\u001b[0;34m,\u001b[0m\u001b[0;34m:\u001b[0m\u001b[0;34m,\u001b[0m\u001b[0;36m0\u001b[0m\u001b[0;34m]\u001b[0m\u001b[0;34m)\u001b[0m\u001b[0;34m\u001b[0m\u001b[0;34m\u001b[0m\u001b[0m\n\u001b[0m\u001b[1;32m      6\u001b[0m   \u001b[0mplt\u001b[0m\u001b[0;34m.\u001b[0m\u001b[0mshow\u001b[0m\u001b[0;34m(\u001b[0m\u001b[0;34m)\u001b[0m\u001b[0;34m\u001b[0m\u001b[0;34m\u001b[0m\u001b[0m\n",
            "\u001b[0;31mIndexError\u001b[0m: too many indices for array"
          ]
        }
      ]
    },
    {
      "cell_type": "code",
      "metadata": {
        "id": "I-g3l-6oW5H7",
        "colab_type": "code",
        "colab": {
          "base_uri": "https://localhost:8080/",
          "height": 1000
        },
        "outputId": "746d5bed-6320-45e5-961b-51ae31456acf"
      },
      "source": [
        "checkpoint = ModelCheckpoint('Emotion_little_vgg.h5',\n",
        "                             monitor='val_loss',\n",
        "                             mode='min',\n",
        "                             save_best_only=True,\n",
        "                             verbose=1)\n",
        "\n",
        "earlystop = EarlyStopping(monitor='val_loss',\n",
        "                          min_delta=0,\n",
        "                          patience=3,\n",
        "                          verbose=1,\n",
        "                          restore_best_weights=True\n",
        "                          )\n",
        "\n",
        "reduce_lr = ReduceLROnPlateau(monitor='val_loss',\n",
        "                              factor=0.2,\n",
        "                              patience=3,\n",
        "                              verbose=1,\n",
        "                              min_delta=0.0001)\n",
        "\n",
        "callbacks = [earlystop,checkpoint,reduce_lr]\n",
        "print(train_generator)\n",
        "history=model.fit(train_generator,epochs=30,batch_size=70,validation_data=validation_generator)"
      ],
      "execution_count": 31,
      "outputs": [
        {
          "output_type": "stream",
          "text": [
            "<keras_preprocessing.image.numpy_array_iterator.NumpyArrayIterator object at 0x7fdc73cae898>\n",
            "Epoch 1/30\n",
            "898/898 [==============================] - 17s 19ms/step - loss: 2.1583 - accuracy: 0.1929 - val_loss: 1.7874 - val_accuracy: 0.2519\n",
            "Epoch 2/30\n",
            "898/898 [==============================] - 17s 18ms/step - loss: 1.8217 - accuracy: 0.2395 - val_loss: 1.7712 - val_accuracy: 0.2633\n",
            "Epoch 3/30\n",
            "898/898 [==============================] - 17s 18ms/step - loss: 1.7943 - accuracy: 0.2515 - val_loss: 1.7628 - val_accuracy: 0.2600\n",
            "Epoch 4/30\n",
            "898/898 [==============================] - 17s 18ms/step - loss: 1.7824 - accuracy: 0.2606 - val_loss: 1.7899 - val_accuracy: 0.2522\n",
            "Epoch 5/30\n",
            "898/898 [==============================] - 17s 19ms/step - loss: 1.7444 - accuracy: 0.2842 - val_loss: 1.6868 - val_accuracy: 0.3098\n",
            "Epoch 6/30\n",
            "898/898 [==============================] - 17s 19ms/step - loss: 1.6869 - accuracy: 0.3129 - val_loss: 1.5587 - val_accuracy: 0.3937\n",
            "Epoch 7/30\n",
            "898/898 [==============================] - 17s 18ms/step - loss: 1.5975 - accuracy: 0.3667 - val_loss: 1.4316 - val_accuracy: 0.4333\n",
            "Epoch 8/30\n",
            "898/898 [==============================] - 17s 18ms/step - loss: 1.5241 - accuracy: 0.4084 - val_loss: 1.3107 - val_accuracy: 0.4951\n",
            "Epoch 9/30\n",
            "898/898 [==============================] - 17s 18ms/step - loss: 1.4765 - accuracy: 0.4272 - val_loss: 1.2548 - val_accuracy: 0.5227\n",
            "Epoch 10/30\n",
            "898/898 [==============================] - 17s 19ms/step - loss: 1.4465 - accuracy: 0.4460 - val_loss: 1.2593 - val_accuracy: 0.5157\n",
            "Epoch 11/30\n",
            "898/898 [==============================] - 17s 18ms/step - loss: 1.4231 - accuracy: 0.4531 - val_loss: 1.2055 - val_accuracy: 0.5347\n",
            "Epoch 12/30\n",
            "898/898 [==============================] - 17s 18ms/step - loss: 1.3914 - accuracy: 0.4671 - val_loss: 1.1968 - val_accuracy: 0.5366\n",
            "Epoch 13/30\n",
            "898/898 [==============================] - 16s 18ms/step - loss: 1.3859 - accuracy: 0.4704 - val_loss: 1.1636 - val_accuracy: 0.5573\n",
            "Epoch 14/30\n",
            "898/898 [==============================] - 17s 19ms/step - loss: 1.3657 - accuracy: 0.4826 - val_loss: 1.1910 - val_accuracy: 0.5464\n",
            "Epoch 15/30\n",
            "898/898 [==============================] - 17s 19ms/step - loss: 1.3456 - accuracy: 0.4889 - val_loss: 1.1713 - val_accuracy: 0.5592\n",
            "Epoch 16/30\n",
            "898/898 [==============================] - 17s 18ms/step - loss: 1.3451 - accuracy: 0.4885 - val_loss: 1.1480 - val_accuracy: 0.5678\n",
            "Epoch 17/30\n",
            "898/898 [==============================] - 17s 18ms/step - loss: 1.3265 - accuracy: 0.5001 - val_loss: 1.1128 - val_accuracy: 0.5868\n",
            "Epoch 18/30\n",
            "898/898 [==============================] - 17s 18ms/step - loss: 1.3197 - accuracy: 0.5035 - val_loss: 1.0852 - val_accuracy: 0.5848\n",
            "Epoch 19/30\n",
            "898/898 [==============================] - 17s 18ms/step - loss: 1.3093 - accuracy: 0.5094 - val_loss: 1.1272 - val_accuracy: 0.5751\n",
            "Epoch 20/30\n",
            "898/898 [==============================] - 17s 19ms/step - loss: 1.2986 - accuracy: 0.5137 - val_loss: 1.1205 - val_accuracy: 0.5784\n",
            "Epoch 21/30\n",
            "898/898 [==============================] - 17s 18ms/step - loss: 1.2820 - accuracy: 0.5182 - val_loss: 1.1182 - val_accuracy: 0.5829\n",
            "Epoch 22/30\n",
            "898/898 [==============================] - 16s 18ms/step - loss: 1.2818 - accuracy: 0.5232 - val_loss: 1.0980 - val_accuracy: 0.5874\n",
            "Epoch 23/30\n",
            "898/898 [==============================] - 16s 18ms/step - loss: 1.2739 - accuracy: 0.5279 - val_loss: 1.1082 - val_accuracy: 0.5815\n",
            "Epoch 24/30\n",
            "898/898 [==============================] - 17s 19ms/step - loss: 1.2622 - accuracy: 0.5273 - val_loss: 1.0732 - val_accuracy: 0.5988\n",
            "Epoch 25/30\n",
            "898/898 [==============================] - 17s 19ms/step - loss: 1.2563 - accuracy: 0.5317 - val_loss: 1.0757 - val_accuracy: 0.5938\n",
            "Epoch 26/30\n",
            "898/898 [==============================] - 16s 18ms/step - loss: 1.2520 - accuracy: 0.5353 - val_loss: 1.0660 - val_accuracy: 0.5991\n",
            "Epoch 27/30\n",
            "898/898 [==============================] - 16s 18ms/step - loss: 1.2477 - accuracy: 0.5369 - val_loss: 1.0702 - val_accuracy: 0.6021\n",
            "Epoch 28/30\n",
            "898/898 [==============================] - 16s 18ms/step - loss: 1.2455 - accuracy: 0.5360 - val_loss: 1.0527 - val_accuracy: 0.6016\n",
            "Epoch 29/30\n",
            "898/898 [==============================] - 17s 18ms/step - loss: 1.2385 - accuracy: 0.5389 - val_loss: 1.0477 - val_accuracy: 0.6082\n",
            "Epoch 30/30\n",
            "898/898 [==============================] - 17s 18ms/step - loss: 1.2393 - accuracy: 0.5405 - val_loss: 1.0486 - val_accuracy: 0.6141\n"
          ],
          "name": "stdout"
        }
      ]
    },
    {
      "cell_type": "code",
      "metadata": {
        "id": "GZbNeN6Hb3yD",
        "colab_type": "code",
        "colab": {}
      },
      "source": [
        "nb_train_samples = 24176\n",
        "nb_validation_samples = 3006\n",
        "epochs=25\n",
        "\n",
        "history2=model.fit_generator(\n",
        "                train_generator,\n",
        "                steps_per_epoch=nb_train_samples//32,\n",
        "                epochs=epochs,\n",
        "                validation_data=validation_generator,\n",
        "                validation_steps=nb_validation_samples//32)\n"
      ],
      "execution_count": null,
      "outputs": []
    },
    {
      "cell_type": "code",
      "metadata": {
        "id": "GHRj0G3Z5lRg",
        "colab_type": "code",
        "colab": {}
      },
      "source": [
        ""
      ],
      "execution_count": null,
      "outputs": []
    }
  ]
}